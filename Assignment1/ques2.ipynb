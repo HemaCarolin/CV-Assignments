{
 "cells": [
  {
   "cell_type": "code",
   "execution_count": 2,
   "id": "5f9207ad-e324-421b-8812-af684851b5d2",
   "metadata": {},
   "outputs": [],
   "source": [
    "'''\n",
    "Question 2 : \n",
    "Point the camera to a chessboard pattern or any known set of reference points that lie on the\n",
    "same plane. Capture a series of 10 images by changing the orientation of the camera in each\n",
    "iteration. Select any 1 image, and using the image formation pipeline equation, set up the linear\n",
    "equations in matrix form and solve for intrinsic and extrinsic parameters (extrinsic for that\n",
    "particular orientation). You will need to make measurements of the actual 3D world points, and\n",
    "mark pixel coordinates. Once you compute the Rotation matrix, you also need to compute the\n",
    "angles of rotation along each axis. Choose your order of rotation based on your experimentation\n",
    "setup.\n",
    "'''\n",
    "\n",
    "# Camera calibration and parameter estimation completed in Question 1\n",
    "# Intrinsic and extrinsic parameters have been computed\n",
    "# Rotation angles along each axis have been calculated\n",
    "# Calibration results are stored and can be used for further processing\n"
   ]
  },
  {
   "cell_type": "code",
   "execution_count": 26,
   "id": "fff861db",
   "metadata": {},
   "outputs": [],
   "source": [
    "#  Importing necessary packages\n",
    "import numpy as np\n",
    "import cv2\n",
    "from scipy.spatial.transform import Rotation\n",
    "import math\n",
    "from math import cos, sin, radians, sqrt"
   ]
  },
  {
   "cell_type": "code",
   "execution_count": 2,
   "id": "10278aa5",
   "metadata": {},
   "outputs": [
    {
     "name": "stdout",
     "output_type": "stream",
     "text": [
      "Rotation vector:\n",
      "[[[-0.06411]\n",
      "  [ 0.01005]\n",
      "  [-0.02888]]\n",
      "\n",
      " [[-0.08194]\n",
      "  [-0.00255]\n",
      "  [-0.03956]]\n",
      "\n",
      " [[-0.07244]\n",
      "  [ 0.00848]\n",
      "  [-0.05837]]\n",
      "\n",
      " [[-0.06368]\n",
      "  [-0.02992]\n",
      "  [ 0.00247]]\n",
      "\n",
      " [[-0.05461]\n",
      "  [-0.04569]\n",
      "  [ 0.03655]]\n",
      "\n",
      " [[-0.0284 ]\n",
      "  [-0.02158]\n",
      "  [-0.02723]]\n",
      "\n",
      " [[-0.00576]\n",
      "  [-0.01766]\n",
      "  [-0.04316]]\n",
      "\n",
      " [[ 0.00373]\n",
      "  [-0.02953]\n",
      "  [-0.03722]]\n",
      "\n",
      " [[-0.00557]\n",
      "  [ 0.00225]\n",
      "  [-0.03709]]\n",
      "\n",
      " [[ 0.00135]\n",
      "  [ 0.14067]\n",
      "  [-0.04041]]]\n"
     ]
    }
   ],
   "source": [
    "# Reading the rotational vectors from saved files from Question 1, Run q2 only after q1 as we have necessary files generated from q1\n",
    "rot_v = []\n",
    "\n",
    "with open('images/left/rotat_vector.txt', 'r') as f:\n",
    "    for line in f :\n",
    "        rot_v.append([[float(num)] for num in line.split(' ')])\n",
    "\n",
    "np_rot_v = np.array(rot_v)\n",
    "\n",
    "print(\"Rotation vector:\")    \n",
    "print(np_rot_v)"
   ]
  },
  {
   "cell_type": "code",
   "execution_count": 3,
   "id": "ec4e389a-ed84-4ad9-b9c0-59a472da00ba",
   "metadata": {},
   "outputs": [
    {
     "name": "stdout",
     "output_type": "stream",
     "text": [
      "ROTATIONAL MATRIX\n",
      "[[[ 0.99953267  0.0285337   0.01096691]\n",
      "  [-0.02917774  0.99752897  0.06391105]\n",
      "  [-0.00911619 -0.06420117  0.99789534]]]\n"
     ]
    }
   ],
   "source": [
    "r_obj = Rotation.from_rotvec(np.array(rot_v[0]).reshape(1,3))\n",
    "rot_matrix = r_obj.as_matrix()\n",
    "\n",
    "print(\"ROTATIONAL MATRIX\")\n",
    "print(rot_matrix)"
   ]
  },
  {
   "cell_type": "code",
   "execution_count": 4,
   "id": "306efcda-a429-4745-ab96-7f5177561f66",
   "metadata": {},
   "outputs": [],
   "source": [
    "# Creation of rotation matrix from rotation vector\n",
    "xc, xs = cos(radians(np_rot_v[0][0][0])), sin(radians(np_rot_v[0][0][0]))\n",
    "yc, ys = cos(radians(np_rot_v[0][1][0])), sin(radians(np_rot_v[0][1][0]))\n",
    "zc, zs = cos(radians(np_rot_v[0][2][0])), sin(radians(np_rot_v[0][2][0]))"
   ]
  },
  {
   "cell_type": "code",
   "execution_count": 5,
   "id": "2f99b4d0-33fc-4ac9-82a0-ea76577c31b3",
   "metadata": {},
   "outputs": [],
   "source": [
    "#Creation of  rotation matrices along x,y and z\n",
    "rot_x_mtx = np.array([[1,0,0,0],[0,xc,-xs,0],[0,xs,-xc,0],[0,0,0,1]])\n",
    "rot_y_mtx = np.array([[yc,0,ys,0],[0,1,0,0],[-ys,0,yc,0],[0,0,0,1]])\n",
    "rot_z_mtx = np.array([[zc,-zs,0,0],[zs,zc,0,0],[0,0,1,0],[0,0,0,1]])"
   ]
  },
  {
   "cell_type": "code",
   "execution_count": 6,
   "id": "091474fa-c0b3-4f32-b51b-6244c90422cc",
   "metadata": {},
   "outputs": [
    {
     "name": "stdout",
     "output_type": "stream",
     "text": [
      "Transation vector:\n",
      "[[[-0.70711]\n",
      "  [-2.78165]\n",
      "  [ 8.36554]]\n",
      "\n",
      " [[-1.20581]\n",
      "  [-2.53829]\n",
      "  [ 8.64232]]\n",
      "\n",
      " [[-1.96116]\n",
      "  [-2.31523]\n",
      "  [ 8.79577]]\n",
      "\n",
      " [[-2.46894]\n",
      "  [-2.70203]\n",
      "  [ 8.68045]]\n",
      "\n",
      " [[-2.61204]\n",
      "  [-2.9879 ]\n",
      "  [ 8.52294]]\n",
      "\n",
      " [[-2.75342]\n",
      "  [-2.35787]\n",
      "  [ 8.10509]]\n",
      "\n",
      " [[-2.54701]\n",
      "  [-2.23151]\n",
      "  [ 7.51416]]\n",
      "\n",
      " [[-2.43804]\n",
      "  [-2.17882]\n",
      "  [ 6.74177]]\n",
      "\n",
      " [[-2.65625]\n",
      "  [-2.51014]\n",
      "  [ 8.99854]]\n",
      "\n",
      " [[-1.89836]\n",
      "  [-2.98701]\n",
      "  [11.01494]]]\n"
     ]
    }
   ],
   "source": [
    "# Reading the translation vectors from saved files\n",
    "\n",
    "tra_v = []\n",
    "\n",
    "with open('images/left/trans_vector.txt', 'r') as f:\n",
    "    for line in f :\n",
    "        tra_v.append([[float(num)] for num in line.split(' ')])\n",
    "        \n",
    "np_tra_v = np.array(tra_v)\n",
    "\n",
    "print(\"Transation vector:\")    \n",
    "print(np_tra_v)"
   ]
  },
  {
   "cell_type": "code",
   "execution_count": 7,
   "id": "2b598752-e64e-44aa-b92c-3a526341ed35",
   "metadata": {},
   "outputs": [
    {
     "name": "stdout",
     "output_type": "stream",
     "text": [
      "TRANSLATIONAL MATRIX\n",
      "[[ 1.       0.       0.      -0.70711]\n",
      " [ 0.       1.       0.      -2.78165]\n",
      " [ 0.       0.       1.       8.36554]\n",
      " [ 0.       0.       0.       1.     ]]\n"
     ]
    }
   ],
   "source": [
    "# Translated matrix\n",
    "tx = np_tra_v[0][0][0]\n",
    "ty = np_tra_v[0][1][0]\n",
    "tz = np_tra_v[0][2][0]\n",
    "trans_mtx = np.array([[1,0,0,tx],[0,1,0,ty],[0,0,1,tz],[0,0,0,1]])\n",
    "\n",
    "print(\"TRANSLATIONAL MATRIX\")\n",
    "print(trans_mtx)"
   ]
  },
  {
   "cell_type": "code",
   "execution_count": 8,
   "id": "e2de5c15-afe8-478e-a275-addb4a0cfbc9",
   "metadata": {},
   "outputs": [
    {
     "name": "stdout",
     "output_type": "stream",
     "text": [
      "CAMERA INTRINSIC MATRIX:\n",
      "[[460.5366, 0.0, 309.2375], [0.0, 482.0849, 243.95965], [0.0, 0.0, 1.0]]\n"
     ]
    }
   ],
   "source": [
    "# Reading the intrinsic camera matrix from saved files\n",
    "\n",
    "c_mtx = []\n",
    " \n",
    "with open('images/left/camera_matrix.txt', 'r') as f:\n",
    "    for line in f :\n",
    "        c_mtx.append([float(num) for num in line.split(' ')])\n",
    "\n",
    "print(\"CAMERA INTRINSIC MATRIX:\")\n",
    "print(c_mtx)"
   ]
  },
  {
   "cell_type": "code",
   "execution_count": 9,
   "id": "46848b1b-0da5-4d90-9025-7497e9101b56",
   "metadata": {},
   "outputs": [
    {
     "name": "stdout",
     "output_type": "stream",
     "text": [
      "Intrinsinc mtx:\n",
      "[[460.5366    0.      309.2375    0.     ]\n",
      " [  0.      482.0849  243.95965   0.     ]\n",
      " [  0.        0.        1.        1.     ]\n",
      " [  0.        0.        0.        1.     ]]\n"
     ]
    }
   ],
   "source": [
    "# Intrinsic matrix\n",
    "\n",
    "int_mtx = np.append(np.append(c_mtx, [[0],[0],[1]], axis=1), [np.array([0,0,0,1])], axis=0)\n",
    "print('Intrinsinc mtx:')\n",
    "print(int_mtx)"
   ]
  },
  {
   "cell_type": "code",
   "execution_count": 10,
   "id": "aa944e49-6f9e-46cb-9a30-84a0c0a25b65",
   "metadata": {},
   "outputs": [
    {
     "name": "stdout",
     "output_type": "stream",
     "text": [
      "Extrinsinc mtx\n",
      "[[ 9.99999858e-01  5.03854484e-04 -1.74841459e-04 -7.09974089e-01]\n",
      " [-5.04051059e-04  9.99999247e-01  1.11901862e-03 -2.77193029e+00]\n",
      " [-1.75405589e-04 -1.11893033e-03 -9.99999359e-01 -8.36229813e+00]\n",
      " [ 0.00000000e+00  0.00000000e+00  0.00000000e+00  1.00000000e+00]]\n"
     ]
    }
   ],
   "source": [
    "# Extrinsic matrix\n",
    "\n",
    "ext_mtx = np.dot(rot_z_mtx, np.dot(rot_y_mtx, np.dot(rot_x_mtx, trans_mtx)))\n",
    "print('Extrinsinc mtx')\n",
    "print(ext_mtx)"
   ]
  },
  {
   "cell_type": "code",
   "execution_count": 11,
   "id": "39aec402",
   "metadata": {},
   "outputs": [
    {
     "name": "stdout",
     "output_type": "stream",
     "text": [
      "CAMERA MATRIX: \n",
      "[[ 4.60482292e+02 -1.13971788e-01 -3.09317823e+02 -2.91290522e+03]\n",
      " [-2.85787290e-01  4.81811563e+02 -2.43420032e+02 -3.37636906e+03]\n",
      " [-1.75405589e-04 -1.11893033e-03 -9.99999359e-01 -7.36229813e+00]\n",
      " [ 0.00000000e+00  0.00000000e+00  0.00000000e+00  1.00000000e+00]]\n"
     ]
    }
   ],
   "source": [
    "# Camera Matrix\n",
    "\n",
    "camera_matrix = np.dot(int_mtx, ext_mtx)\n",
    "print(\"CAMERA MATRIX: \")\n",
    "print(camera_matrix)"
   ]
  },
  {
   "cell_type": "code",
   "execution_count": 12,
   "id": "847e72c7-de62-4e1c-8997-8ee6fa2b1e27",
   "metadata": {},
   "outputs": [],
   "source": [
    "# Calculate the inverse of the camera matrix to transform from image plane to real-world coordinates\n",
    "inverse_mat = -np.linalg.inv(camera_matrix) \n",
    "\n",
    "# Homogeneous coordinates of two points in the image plane\n",
    "project_points1 = np.array([[5],[10],[30],[1]])\n",
    "project_points2 = np.array([[100],[90],[30],[1]])\n",
    "\n",
    "# Transform points from image plane to real-world coordinates\n",
    "real_dim_p1 = inverse_mat.dot(project_points1)\n",
    "real_dim_p2 = inverse_mat.dot(project_points2)\n"
   ]
  },
  {
   "cell_type": "code",
   "execution_count": 46,
   "id": "cb749409",
   "metadata": {},
   "outputs": [
    {
     "name": "stdout",
     "output_type": "stream",
     "text": [
      "Roll (X axis rotation): -210.9138382679699 degrees\n",
      "Pitch (Y axis rotation): 29.927100873638512 degrees\n",
      "Yaw (Z axis rotation): -95.8024478478814 degrees\n"
     ]
    }
   ],
   "source": [
    "#  this matrix below is the rotational matrix we got earlier\n",
    "\n",
    "R = np.array([[0.99953267, 0.0285337, 0.01096691],\n",
    "              [-0.02917774, 0.99752897, 0.06391105],\n",
    "              [-0.00911619, -0.06420117, 0.99789534]])\n",
    "\n",
    "# Using cv2.RQDecomp3x3() to decompose the rotation matrix into Euler angles\n",
    "roll_pitch_yaw = cv2.RQDecomp3x3(R)[0]\n",
    "\n",
    "# Extracting individual Euler angles\n",
    "roll = roll_pitch_yaw[0]\n",
    "pitch = roll_pitch_yaw[1]\n",
    "yaw = roll_pitch_yaw[2]\n",
    "\n",
    "# Convert angles from radians to degrees\n",
    "roll_degrees = np.degrees(roll)\n",
    "pitch_degrees = np.degrees(pitch)\n",
    "yaw_degrees = np.degrees(yaw)\n",
    "\n",
    "print(\"Roll (X axis rotation):\", roll_degrees, \"degrees\")\n",
    "print(\"Pitch (Y axis rotation):\", pitch_degrees, \"degrees\")\n",
    "print(\"Yaw (Z axis rotation):\", yaw_degrees, \"degrees\")"
   ]
  }
 ],
 "metadata": {
  "kernelspec": {
   "display_name": "Python 3 (ipykernel)",
   "language": "python",
   "name": "python3"
  },
  "language_info": {
   "codemirror_mode": {
    "name": "ipython",
    "version": 3
   },
   "file_extension": ".py",
   "mimetype": "text/x-python",
   "name": "python",
   "nbconvert_exporter": "python",
   "pygments_lexer": "ipython3",
   "version": "3.9.0"
  }
 },
 "nbformat": 4,
 "nbformat_minor": 5
}
