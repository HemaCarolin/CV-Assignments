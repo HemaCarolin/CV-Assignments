{
 "cells": [
  {
   "cell_type": "code",
   "execution_count": 2,
   "metadata": {},
   "outputs": [],
   "source": [
    "'''\n",
    "Run the feature-based matching object detection on the images from problem (1).\n",
    "'''"
   ]
  },
  {
   "cell_type": "code",
   "execution_count": null,
   "metadata": {},
   "outputs": [],
   "source": [
    "import cv2\n",
    "import numpy as np\n",
    "from pathlib import Path\n",
    "import matplotlib.pyplot as plt"
   ]
  },
  {
   "cell_type": "code",
   "execution_count": 3,
   "metadata": {},
   "outputs": [],
   "source": [
    "import depthai as dai\n",
    "\n",
    "# Define the function to capture an image using the OAK camera\n",
    "def capture_image():\n",
    "    # Start defining a pipeline\n",
    "    pipeline = dai.Pipeline()\n",
    "\n",
    "    # Define a source - color camera\n",
    "    cam = pipeline.createColorCamera()\n",
    "    cam.setResolution(dai.ColorCameraProperties.SensorResolution.THE_1080_P)\n",
    "\n",
    "    # Create output\n",
    "    xout = pipeline.createXLinkOut()\n",
    "    xout.setStreamName(\"video\")\n",
    "    cam.video.link(xout.input)\n",
    "\n",
    "    # Connect and start the pipeline\n",
    "    with dai.Device(pipeline) as device:\n",
    "        # Output queue will be used to get the frames from the output defined above\n",
    "        q = device.getOutputQueue(name=\"video\", maxSize=1, blocking=True)\n",
    "\n",
    "        # Get the frames from the camera\n",
    "        frame = None\n",
    "        while True:\n",
    "            in_video = q.get()\n",
    "            frame = in_video.getCvFrame()\n",
    "            cv2.imshow(\"OAK Camera\", frame)\n",
    "            \n",
    "            # Press 's' to capture the image\n",
    "            key = cv2.waitKey(1) & 0xFF\n",
    "            if key == ord(\"s\"):\n",
    "                # Save the captured frame to a file named \"oak_image.png\"\n",
    "                cv2.imwrite(\"oak_image.png\", frame)\n",
    "                break\n",
    "\n",
    "        # Release the camera\n",
    "        cv2.destroyAllWindows()\n",
    "\n",
    "# Call the function to capture an image\n",
    "capture_image()\n"
   ]
  },
  {
   "cell_type": "code",
   "execution_count": 5,
   "metadata": {},
   "outputs": [],
   "source": [
    "# a few images i took with my oakd lite color camera \n",
    "# and cropped to get the obects in frame\n",
    "\n",
    "# total scene\n",
    "img = cv2.imread(\"oak_image.png\")\n",
    "cv2.imshow(\"oak_image\", img)\n",
    "cv2.waitKey(1000)\n",
    "cv2.destroyAllWindows()\n",
    "\n",
    "# objects \n",
    "blue_heart = cv2.imread(\"blue_heart.png\")\n",
    "purple_heart = cv2.imread(\"purple_star.png\")\n",
    "\n",
    "cv2.imshow(\"blue heart\", blue_heart)\n",
    "cv2.waitKey(1000)\n",
    "cv2.destroyAllWindows()\n",
    "\n",
    "cv2.imshow(\"purple star\", purple_heart)\n",
    "cv2.waitKey(1000)\n",
    "cv2.destroyAllWindows()"
   ]
  },
  {
   "cell_type": "code",
   "execution_count": 6,
   "metadata": {},
   "outputs": [],
   "source": [
    "cv2.destroyAllWindows()\n",
    "\n",
    "# objects \n",
    "blue_heart = cv2.imread(\"blue_heart.png\")\n",
    "purple_heart = cv2.imread(\"purple_star.png\")\n",
    "\n",
    "cv2.imshow(\"blue flower\", blue_heart)\n",
    "cv2.waitKey(1000)\n",
    "cv2.destroyAllWindows()\n",
    "\n",
    "cv2.imshow(\"red flower\", purple_heart)\n",
    "cv2.waitKey(1000)\n",
    "cv2.destroyAllWindows()"
   ]
  },
  {
   "cell_type": "markdown",
   "metadata": {},
   "source": [
    "Feature based Object detection algorithm"
   ]
  },
  {
   "cell_type": "code",
   "execution_count": 7,
   "metadata": {},
   "outputs": [],
   "source": [
    "def object_detection(img, template, output_file=\"\") :\n",
    "    Path(f\"object_detected\").mkdir(parents=True, exist_ok=True)\n",
    "\n",
    "    gray_img = cv2.cvtColor(img, cv2.COLOR_BGR2GRAY)\n",
    "    gray_temp = cv2.cvtColor(template, cv2.COLOR_BGR2GRAY)\n",
    "\n",
    "    # feature based obj detection\n",
    "    ssd = cv2.matchTemplate(gray_img, gray_temp, cv2.TM_SQDIFF_NORMED)\n",
    "    point = np.where(ssd == ssd.min())\n",
    "    y = point[0][0]\n",
    "    x = point[1][0]\n",
    "    w = len(template[0])\n",
    "    l = len(template)\n",
    "\n",
    "    # Draw Rectangle\n",
    "    pm = cv2.rectangle(img, (x, y), (x+w, y+l), (255, 255, 255), 2)\n",
    "\n",
    "    cv2.imshow(\"Pattern Match\", pm) \n",
    "    cv2.waitKey(1000)\n",
    "    cv2.imwrite(\"object_detected/\"+output_file+\".png\", pm)\n",
    "    cv2.destroyAllWindows()  "
   ]
  },
  {
   "cell_type": "code",
   "execution_count": 9,
   "metadata": {},
   "outputs": [],
   "source": [
    "img = cv2.imread(\"oak_image.png\")\n",
    "\n",
    "# blue flower image detection\n",
    "object_detection(img, blue_heart, \"blue_flower\")\n",
    "\n",
    "img = cv2.imread(\"oak_image.png\")\n",
    "\n",
    "# red flower image detection\n",
    "object_detection(img, purple_heart, \"purple_heart\")"
   ]
  }
 ],
 "metadata": {
  "kernelspec": {
   "display_name": "Python 3",
   "language": "python",
   "name": "python3"
  },
  "language_info": {
   "codemirror_mode": {
    "name": "ipython",
    "version": 3
   },
   "file_extension": ".py",
   "mimetype": "text/x-python",
   "name": "python",
   "nbconvert_exporter": "python",
   "pygments_lexer": "ipython3",
   "version": "3.9.0"
  }
 },
 "nbformat": 4,
 "nbformat_minor": 2
}
