{
 "cells": [
  {
   "cell_type": "markdown",
   "metadata": {},
   "source": [
    "Question 5 : Without including the record part\n",
    "\n",
    "Image stitching function\n",
    "Stitches based on SIFT or ORB features\n",
    "Usage :\n",
    "\n",
    "stitch_2_imgs(img1, img2, feature)\n",
    "\n",
    "for stitching using ORB features, use \"ORB\"\n",
    "for stitching using SIFT features, use \"SIFT\""
   ]
  },
  {
   "cell_type": "code",
   "execution_count": 5,
   "metadata": {},
   "outputs": [],
   "source": [
    "import cv2\n",
    "import numpy as np\n",
    "\n",
    "def stitch_2_imgs(img1, img2, feature='SIFT', blending=True):\n",
    "    # Convert images to grayscale\n",
    "    img1_bw = cv2.cvtColor(img1, cv2.COLOR_BGR2GRAY)\n",
    "    img2_bw = cv2.cvtColor(img2, cv2.COLOR_BGR2GRAY)\n",
    "    \n",
    "    # Choose feature detector based on the provided feature parameter\n",
    "    if feature == 'SIFT':\n",
    "        feat = cv2.SIFT_create() \n",
    "    elif feature == 'ORB':\n",
    "        feat = cv2.ORB_create()\n",
    "    else:\n",
    "        print(\"Please enter correct feature value.\")\n",
    "        return None\n",
    "\n",
    "    # Detect keypoints and compute descriptors for both images\n",
    "    kp_img1, desc_img1 = feat.detectAndCompute(img1_bw, None) \n",
    "    kp_img2, desc_img2 = feat.detectAndCompute(img2_bw, None) \n",
    "\n",
    "    # Match descriptors using a brute-force matcher\n",
    "    bf = cv2.BFMatcher()\n",
    "    matches = bf.knnMatch(desc_img2, desc_img1, k=2)\n",
    "\n",
    "    # Filter good matches based on Lowe's ratio test\n",
    "    good_points = []\n",
    "    for m, n in matches: \n",
    "        if m.distance < 0.6 * n.distance: \n",
    "            good_points.append(m) \n",
    "\n",
    "    # Check if enough good matches are found to compute homography\n",
    "    if len(good_points) < 4:\n",
    "        print(\"Not enough matches found to compute homography.\")\n",
    "        return None\n",
    "\n",
    "    # Extract matched keypoints for computing homography\n",
    "    query_pts = np.float32([kp_img2[m.queryIdx].pt for m in good_points]).reshape(-1, 1, 2) \n",
    "    train_pts = np.float32([kp_img1[m.trainIdx].pt for m in good_points]).reshape(-1, 1, 2) \n",
    "\n",
    "    # Compute homography matrix using RANSAC\n",
    "    matrix, mask = cv2.findHomography(query_pts, train_pts, cv2.RANSAC, 5.0) \n",
    "\n",
    "    # Warping the second image to the perspective of the first image\n",
    "    dst = cv2.warpPerspective(img2, matrix, ((img1.shape[1] + img2.shape[1]), img2.shape[0])) \n",
    "\n",
    "    # If blending is enabled, perform multi-band blending\n",
    "    if blending:\n",
    "        dst[0:img1.shape[0], 0:img1.shape[1]] = img1\n",
    "    else:\n",
    "        # Directly paste the second image onto the first image\n",
    "        dst[0:img1.shape[0], 0:img1.shape[1]] = img1\n",
    "        # Adjust pixel intensity to avoid overwriting img1 pixels with black pixels from img2\n",
    "        dst = cv2.addWeighted(dst, 0.5, img2, 0.5, 0)\n",
    "\n",
    "    return dst\n"
   ]
  },
  {
   "cell_type": "code",
   "execution_count": 4,
   "metadata": {},
   "outputs": [],
   "source": [
    "img1 = cv2.imread('image_stitching/building2.jpg')\n",
    "img2 = cv2.imread('image_stitching/building1.jpg')\n",
    "result = stitch_2_imgs(img1, img2, blending=True)\n",
    "\n",
    "if result is not None:\n",
    "    cv2.imwrite('image_stitching/panorama.jpg', result)\n",
    "    cv2.imshow('Panorama', result)\n",
    "    cv2.waitKey(0)\n",
    "    cv2.destroyAllWindows()\n",
    "else:\n",
    "    print(\"Stitching failed. Insufficient matches.\")\n"
   ]
  }
 ],
 "metadata": {
  "kernelspec": {
   "display_name": "Python 3",
   "language": "python",
   "name": "python3"
  },
  "language_info": {
   "codemirror_mode": {
    "name": "ipython",
    "version": 3
   },
   "file_extension": ".py",
   "mimetype": "text/x-python",
   "name": "python",
   "nbconvert_exporter": "python",
   "pygments_lexer": "ipython3",
   "version": "3.9.0"
  }
 },
 "nbformat": 4,
 "nbformat_minor": 2
}
