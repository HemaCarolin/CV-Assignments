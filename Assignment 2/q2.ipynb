{
 "cells": [
  {
   "cell_type": "markdown",
   "metadata": {},
   "source": [
    "Question 2"
   ]
  },
  {
   "cell_type": "code",
   "execution_count": 1,
   "metadata": {},
   "outputs": [],
   "source": [
    "\n",
    "'''\n",
    "Pick any image frame from the 10 sec video footage.\n",
    "Pick a region of interest in the image making sure there is a CORNER in that region.\n",
    "Pick a 5 x 5 image patch in that region that constitutes the edge. \n",
    "Perform the steps of HARRIS CORNER DETECTION manually and note the pixels that correspond to the CORNER. \n",
    "Compare the outcome with MATLAB or OpenCV or DepthAI’s  Harris corner detection function.\n",
    "'''"
   ]
  },
  {
   "cell_type": "code",
   "execution_count": 2,
   "metadata": {},
   "outputs": [],
   "source": [
    "# Importing necessary libraries\n",
    "import cv2\n",
    "import depthai as dai\n",
    "import numpy as np\n",
    "\n",
    "import time\n",
    "from pathlib import Path\n",
    "from matplotlib import pyplot as plt"
   ]
  },
  {
   "cell_type": "code",
   "execution_count": 4,
   "metadata": {},
   "outputs": [],
   "source": [
    "# Start defining a pipeline\n",
    "pipeline = dai.Pipeline()\n",
    "\n",
    "# Define a source - left grayscale cameras\n",
    "cam_left = pipeline.createMonoCamera()\n",
    "cam_left.setBoardSocket(dai.CameraBoardSocket.CAM_B)\n",
    "cam_left.setResolution(dai.MonoCameraProperties.SensorResolution.THE_480_P)\n",
    "\n",
    "# Create outputs\n",
    "xout_left = pipeline.createXLinkOut()\n",
    "xout_left.setStreamName('left')\n",
    "cam_left.out.link(xout_left.input)"
   ]
  },
  {
   "cell_type": "code",
   "execution_count": 6,
   "metadata": {},
   "outputs": [],
   "source": [
    "## RECORDING FOR 10 SECONDS\n",
    "## THE FRAMES ARE BEING STORED IN DIRECTORY \"video_frames\"\n",
    "\n",
    "# Connect and start the pipeline\n",
    "with dai.Device(pipeline) as device:\n",
    "\n",
    "    # Output queue will be used to get the grayscale frames from the output defined above\n",
    "    q = device.getOutputQueue(name=\"left\", maxSize=4, blocking=False)\n",
    "\n",
    "    # Make sure the destination path is present before starting to store the examples\n",
    "    Path(f\"video_frames/\").mkdir(parents=True, exist_ok=True)\n",
    "\n",
    "    # running loop for 10 secs\n",
    "    ten_secs = time.time() + 10\n",
    "    \n",
    "    while time.time() < ten_secs:\n",
    "        # Blocking call, will wait until a new data has arrived\n",
    "        inSrc = q.get()  \n",
    "        # Data is originally represented as a flat 1D array, it needs to be converted into HxW form\n",
    "        frame = inSrc.getCvFrame()\n",
    "        # Frame is transformed and ready to be shown\n",
    "        cv2.imshow(\"left\", frame)\n",
    "        cv2.waitKey(1)\n",
    "\n",
    "        cv2.imwrite(f\"video_frames/{int(time.time() * 10000)}.png\", frame)\n",
    "\n",
    "    cv2.destroyAllWindows()            "
   ]
  },
  {
   "cell_type": "code",
   "execution_count": 5,
   "metadata": {},
   "outputs": [],
   "source": [
    "# harris conner detection\n",
    "# choosing a random image from the captured frames\n",
    "image = cv2.imread('video_frames/17109832419099.png')\n",
    "start_row = 100\n",
    "start_col = 150\n",
    "\n",
    "# Extract the patch\n",
    "image_patch = image[start_row:start_row+5, start_col:start_col+5]\n",
    "\n",
    "\n",
    "# display input image\n",
    "cv2.imshow('Image input', image_patch)\n",
    "cv2.waitKey(1000)\n",
    "cv2.destroyAllWindows()            \n",
    "\n",
    "# converting to gray-scale\n",
    "bw_image = cv2.cvtColor(image, cv2.COLOR_BGR2GRAY)\n",
    "bw_image = np.float32(bw_image)\n",
    "\n",
    "# applying harris corner detection algorithm\n",
    "dest = cv2.cornerHarris(bw_image, 2, 5, 0.07)\n",
    " \n",
    "# Results are marked through the dilated corners\n",
    "dest = cv2.dilate(dest, None)\n",
    " \n",
    "# Reverting back to the original image,\n",
    "# with optimal threshold value\n",
    "image[dest > 0.01 * dest.max()]=[0, 0, 255]\n",
    " \n",
    "# Image with corners marked \n",
    "# The image is stored in ______ for future references\n",
    "cv2.imshow('Image with Borders', image)\n",
    "cv2.waitKey(1000)\n",
    "cv2.imwrite(\"harris_corner_detection.png\", image)\n",
    "cv2.destroyAllWindows()"
   ]
  }
 ],
 "metadata": {
  "kernelspec": {
   "display_name": "Python 3",
   "language": "python",
   "name": "python3"
  },
  "language_info": {
   "codemirror_mode": {
    "name": "ipython",
    "version": 3
   },
   "file_extension": ".py",
   "mimetype": "text/x-python",
   "name": "python",
   "nbconvert_exporter": "python",
   "pygments_lexer": "ipython3",
   "version": "3.9.0"
  }
 },
 "nbformat": 4,
 "nbformat_minor": 2
}
